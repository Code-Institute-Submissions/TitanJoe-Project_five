{
  "cells": [
    {
      "cell_type": "markdown",
      "metadata": {},
      "source": [
        "# Data Visualization\n",
        "## Objectives\n",
        "* Answer business the requirement 1:\n",
        "    * Average images and variability images for each class (healthy or powdery mildew).\n",
        "    * The differences between average healthy and average powdery mildew cherry leaves.\n",
        "    * An image montage for each class.\n",
        "## Inputs\n",
        "* inputs/cherry-leaves/train\n",
        "* inputs/cherry-leaves/validation\n",
        "* inputs/cherry-leaves/test\n",
        "## Outputs\n",
        "* Average images and variability images for each class (healthy or powdery mildew).\n",
        "* The differences between average healthy and average powdery mildew cherry leaves.\n",
        "* An image montage for each class.\n",
        "\n",
        "## Import packages"
      ]
    },
    {
      "cell_type": "code",
      "execution_count": 2,
      "metadata": {},
      "outputs": [],
      "source": [
        "#import os\n",
        "#import pandas as pd\n",
        "#import numpy as np\n",
        "#import matplotlib.pyplot as plt\n",
        "import seaborn as sns\n",
        "#import joblib\n",
        "#from matplotlib.image import imread"
      ]
    },
    {
      "cell_type": "markdown",
      "metadata": {},
      "source": [
        "## Set plot style"
      ]
    },
    {
      "cell_type": "code",
      "execution_count": 3,
      "metadata": {},
      "outputs": [],
      "source": [
        "\n",
        "sns.set_style(\"white\")"
      ]
    },
    {
      "cell_type": "markdown",
      "metadata": {},
      "source": [
        "## Change the working directory"
      ]
    },
    {
      "cell_type": "code",
      "execution_count": 4,
      "metadata": {},
      "outputs": [
        {
          "name": "stdout",
          "output_type": "stream",
          "text": [
            "Your current directory is '/workspace/Project_five'\n"
          ]
        }
      ],
      "source": [
        "os.chdir('/workspace/Project_five')\n",
        "current_directory = os.getcwd()\n",
        "print(f\"Your current directory is '{current_directory}'\")"
      ]
    },
    {
      "cell_type": "markdown",
      "metadata": {},
      "source": [
        "## Set input directories"
      ]
    },
    {
      "cell_type": "code",
      "execution_count": 19,
      "metadata": {},
      "outputs": [],
      "source": [
        "getdirectory = os.getcwd()\n",
        "directory = 'inputs/cherry-leaves'\n",
        "train_path = directory + '/train'\n",
        "val_path = directory + '/validation'\n",
        "test_path = directory + '/test'"
      ]
    },
    {
      "cell_type": "markdown",
      "metadata": {},
      "source": [
        "## Create outputs folder"
      ]
    },
    {
      "cell_type": "code",
      "execution_count": 38,
      "metadata": {},
      "outputs": [
        {
          "name": "stdout",
          "output_type": "stream",
          "text": [
            "outputs folder is ready\n"
          ]
        }
      ],
      "source": [
        "\n",
        "if 'outputs' not in os.listdir(os.getcwd()):\n",
        "    os.makedirs(name=\"outputs\")\n",
        "    print(\"outputs folder created\")\n",
        "else:\n",
        "    print(\"outputs folder is ready\")\n"
      ]
    },
    {
      "cell_type": "markdown",
      "metadata": {},
      "source": [
        "## Set output directory"
      ]
    },
    {
      "cell_type": "code",
      "execution_count": 44,
      "metadata": {},
      "outputs": [
        {
          "name": "stdout",
          "output_type": "stream",
          "text": [
            "Version exists\n"
          ]
        }
      ],
      "source": [
        "# To make a new set of outputs change the version variable\n",
        "version = 'v1'\n",
        "file_path = f'outputs/{version}'\n",
        "if version not in os.listdir(\"outputs\"):\n",
        "  os.makedirs(name=file_path)\n",
        "else:\n",
        "    print('Version exists')"
      ]
    }
  ],
  "metadata": {
    "accelerator": "GPU",
    "colab": {
      "name": "Data Practitioner Jupyter Notebook.ipynb",
      "provenance": []
    },
    "interpreter": {
      "hash": "8b8334dab9339717f727a1deaf837b322d7a41c20d15cc86be99a8e69ceec8ce"
    },
    "kernelspec": {
      "display_name": "Python 3.8.12 64-bit ('3.8.12': pyenv)",
      "name": "python3"
    },
    "language_info": {
      "codemirror_mode": {
        "name": "ipython",
        "version": 3
      },
      "file_extension": ".py",
      "mimetype": "text/x-python",
      "name": "python",
      "nbconvert_exporter": "python",
      "pygments_lexer": "ipython3",
      "version": "3.8.12"
    },
    "orig_nbformat": 2
  },
  "nbformat": 4,
  "nbformat_minor": 2
}
