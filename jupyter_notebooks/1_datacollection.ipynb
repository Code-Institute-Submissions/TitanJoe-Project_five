{
  "cells": [
    {
      "cell_type": "markdown",
      "metadata": {},
      "source": [
        "# Data Collection"
      ]
    },
    {
      "cell_type": "markdown",
      "metadata": {},
      "source": [
        "## Objectives\n",
        "\n",
        "* Get the dataset from Kaggle and divide it into train, validation and test sets\n",
        "\n",
        "## Inputs\n",
        "\n",
        "* Kaggle JSON file - authentication token\n",
        "* Webpage of the data set\n",
        "\n",
        "## Outputs\n",
        "\n",
        "* Our dataset divided into train, validation and test sets"
      ]
    },
    {
      "cell_type": "markdown",
      "metadata": {},
      "source": [
        "## Install packages"
      ]
    },
    {
      "cell_type": "code",
      "execution_count": null,
      "metadata": {},
      "outputs": [],
      "source": [
        "%pip install -r /workspace/Project_five/requirements.txt\n",
        "%pip install kaggle"
      ]
    },
    {
      "cell_type": "markdown",
      "metadata": {},
      "source": [
        "## Import packages"
      ]
    },
    {
      "cell_type": "code",
      "execution_count": 3,
      "metadata": {},
      "outputs": [],
      "source": [
        "import numpy\n",
        "import os\n",
        "import zipfile\n",
        "import random\n",
        "import shutil"
      ]
    },
    {
      "cell_type": "markdown",
      "metadata": {},
      "source": [
        "## Change the working directory"
      ]
    },
    {
      "cell_type": "code",
      "execution_count": 4,
      "metadata": {},
      "outputs": [
        {
          "name": "stdout",
          "output_type": "stream",
          "text": [
            "Your current directory is '/workspace/Project_five'\n"
          ]
        }
      ],
      "source": [
        "os.chdir('/workspace/Project_five')\n",
        "current_directory = os.getcwd()\n",
        "print(f\"Your current directory is '{current_directory}'\")"
      ]
    },
    {
      "cell_type": "markdown",
      "metadata": {},
      "source": [
        "## Change kaggle configuration directory"
      ]
    },
    {
      "cell_type": "code",
      "execution_count": 5,
      "metadata": {},
      "outputs": [],
      "source": [
        "os.environ['KAGGLE_CONFIG_DIR'] = os.getcwd()\n",
        "! chmod 600 kaggle.json"
      ]
    },
    {
      "cell_type": "markdown",
      "metadata": {},
      "source": [
        "## Set Kaggle Dataset and Download it"
      ]
    },
    {
      "cell_type": "code",
      "execution_count": 53,
      "metadata": {},
      "outputs": [
        {
          "name": "stdout",
          "output_type": "stream",
          "text": [
            "Downloading cherry-leaves.zip to inputs\n",
            " 96%|█████████████████████████████████████▌ | 53.0M/55.0M [00:00<00:00, 112MB/s]\n",
            "100%|██████████████████████████████████████| 55.0M/55.0M [00:00<00:00, 96.8MB/s]\n"
          ]
        }
      ],
      "source": [
        "! kaggle datasets download -d {\"codeinstitute/cherry-leaves\"} -p {\"inputs\"}"
      ]
    },
    {
      "cell_type": "markdown",
      "metadata": {},
      "source": [
        "## Extract and delete the downloaded file"
      ]
    },
    {
      "cell_type": "code",
      "execution_count": 54,
      "metadata": {},
      "outputs": [],
      "source": [
        "with zipfile.ZipFile('inputs/cherry-leaves.zip', 'r') as zip_ref:\n",
        "    zip_ref.extractall(\"inputs\")\n",
        "\n",
        "os.remove('inputs/cherry-leaves.zip')"
      ]
    },
    {
      "cell_type": "markdown",
      "metadata": {},
      "source": [
        "## Check and remove non images files"
      ]
    },
    {
      "cell_type": "code",
      "execution_count": 50,
      "metadata": {},
      "outputs": [],
      "source": [
        "image_extensions = ('.png', '.jpg', '.jpeg')\n",
        "folders = os.listdir(\"inputs/cherry-leaves\") \n",
        "for folder in folders:\n",
        "    files = os.listdir(\"inputs/cherry-leaves/\" + folder)\n",
        "    for this_file in files:\n",
        "        if not this_file.lower().endswith(image_extensions):\n",
        "            file_location = \"inputs/cherry-leaves/\" + folder + '/' + given_file\n",
        "            os.remove(file_location)"
      ]
    },
    {
      "cell_type": "markdown",
      "metadata": {},
      "source": [
        "## Split train, validation test set"
      ]
    },
    {
      "cell_type": "code",
      "execution_count": 8,
      "metadata": {},
      "outputs": [
        {
          "name": "stdout",
          "output_type": "stream",
          "text": [
            "Sets have been divided already!\n"
          ]
        }
      ],
      "source": [
        "train_set_ratio=0.7\n",
        "validation_set_ratio=0.1\n",
        "test_set_ratio=0.2\n",
        "labels=os.listdir(\"inputs/cherry-leaves\")\n",
        "folders=[\"train\",\"validation\",\"test\"]\n",
        "\n",
        "if \"test\" not in labels:\n",
        "  for folder in folders:\n",
        "    for label in labels:\n",
        "      os.makedirs(name=\"inputs/cherry-leaves/\"+folder+\"/\"+label)\n",
        "  for label in labels:\n",
        "    files = os.listdir(\"inputs/cherry-leaves/\"+label)\n",
        "    random.shuffle(files)\n",
        "    train_set_files_qty=int(len(files)*train_set_ratio)\n",
        "    validation_set_files_qty=int(len(files)*validation_set_ratio)\n",
        "    count=1\n",
        "    for file_name in files:\n",
        "      if count<=train_set_files_qty:\n",
        "        shutil.move(\"inputs/cherry-leaves/\"+label+\"/\"+file_name,\"inputs/cherry-leaves/train/\"+label+\"/\"+file_name)\n",
        "      elif count<=(train_set_files_qty+validation_set_files_qty):\n",
        "        shutil.move(\"inputs/cherry-leaves/\"+label+\"/\"+file_name,\"inputs/cherry-leaves/validation/\"+label+\"/\"+file_name)\n",
        "      else:\n",
        "        shutil.move(\"inputs/cherry-leaves/\"+label+\"/\"+file_name,\"inputs/cherry-leaves/test/\"+label+\"/\"+file_name)\n",
        "      count+=1\n",
        "    os.rmdir(\"inputs/cherry-leaves/\"+label)\n",
        "else:\n",
        "  print(\"Sets have been divided already!\")"
      ]
    },
    {
      "cell_type": "markdown",
      "metadata": {},
      "source": [
        "## Output\n",
        "* Our dataset is now divided into train, validation and test sets\n"
      ]
    }
  ],
  "metadata": {
    "accelerator": "GPU",
    "colab": {
      "name": "01 - DataCollection.ipynb",
      "provenance": []
    },
    "kernelspec": {
      "display_name": "Python 3.8.12 64-bit ('3.8.12')",
      "language": "python",
      "name": "python3"
    },
    "language_info": {
      "codemirror_mode": {
        "name": "ipython",
        "version": 3
      },
      "file_extension": ".py",
      "mimetype": "text/x-python",
      "name": "python",
      "nbconvert_exporter": "python",
      "pygments_lexer": "ipython3",
      "version": "3.8.12 (default, Oct 10 2022, 10:45:44) \n[GCC 9.4.0]"
    },
    "vscode": {
      "interpreter": {
        "hash": "8b8334dab9339717f727a1deaf837b322d7a41c20d15cc86be99a8e69ceec8ce"
      }
    }
  },
  "nbformat": 4,
  "nbformat_minor": 0
}
